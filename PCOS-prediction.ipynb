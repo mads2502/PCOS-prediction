{
  "nbformat": 4,
  "nbformat_minor": 0,
  "metadata": {
    "colab": {
      "name": "MLproject-V0.ipynb",
      "provenance": [],
      "collapsed_sections": []
    },
    "kernelspec": {
      "name": "python3",
      "display_name": "Python 3"
    },
    "language_info": {
      "name": "python"
    }
  },
  "cells": [
    {
      "cell_type": "markdown",
      "metadata": {
        "id": "ER7_DVlO7Hi-"
      },
      "source": [
        "**Import Libraries**"
      ]
    },
    {
      "cell_type": "code",
      "metadata": {
        "id": "RLWprhBu02-j"
      },
      "source": [
        "import pandas as pd\n",
        "import numpy as np\n",
        "import matplotlib.pyplot as plt\n",
        "%matplotlib inline\n",
        "import seaborn as sns"
      ],
      "execution_count": 428,
      "outputs": []
    },
    {
      "cell_type": "code",
      "metadata": {
        "id": "ld9OsAsqqvRY",
        "colab": {
          "base_uri": "https://localhost:8080/"
        },
        "outputId": "89c7c344-c41e-4608-f6c2-7ebc85b4edba"
      },
      "source": [
        "from google.colab import drive\n",
        "drive.mount('/content/drive')"
      ],
      "execution_count": 429,
      "outputs": [
        {
          "output_type": "stream",
          "text": [
            "Drive already mounted at /content/drive; to attempt to forcibly remount, call drive.mount(\"/content/drive\", force_remount=True).\n"
          ],
          "name": "stdout"
        }
      ]
    },
    {
      "cell_type": "markdown",
      "metadata": {
        "id": "iMLYaPFm65VT"
      },
      "source": [
        "**Load and Inspect the Data**"
      ]
    },
    {
      "cell_type": "code",
      "metadata": {
        "colab": {
          "base_uri": "https://localhost:8080/"
        },
        "id": "vJUoKCZH16D5",
        "outputId": "eac83205-516b-4d8b-e944-8121f4477f29"
      },
      "source": [
        "pcos = pd.read_csv(r'/content/drive/MyDrive/projects-sem6/PCOS_data.csv')\n",
        "pcos.head()\n",
        "pcos.info()"
      ],
      "execution_count": 430,
      "outputs": [
        {
          "output_type": "stream",
          "text": [
            "<class 'pandas.core.frame.DataFrame'>\n",
            "RangeIndex: 541 entries, 0 to 540\n",
            "Data columns (total 45 columns):\n",
            " #   Column                  Non-Null Count  Dtype  \n",
            "---  ------                  --------------  -----  \n",
            " 0   Sl. No                  541 non-null    int64  \n",
            " 1   Patient File No.        541 non-null    int64  \n",
            " 2   PCOS (Y/N)              541 non-null    int64  \n",
            " 3    Age (yrs)              541 non-null    int64  \n",
            " 4   Weight (Kg)             541 non-null    float64\n",
            " 5   Height(Cm)              541 non-null    float64\n",
            " 6   BMI                     541 non-null    float64\n",
            " 7   Blood Group             541 non-null    int64  \n",
            " 8   Pulse rate(bpm)         541 non-null    int64  \n",
            " 9   RR (breaths/min)        541 non-null    int64  \n",
            " 10  Hb(g/dl)                541 non-null    float64\n",
            " 11  Cycle(R/I)              541 non-null    int64  \n",
            " 12  Cycle length(days)      541 non-null    int64  \n",
            " 13  Marraige Status (Yrs)   540 non-null    float64\n",
            " 14  Pregnant(Y/N)           541 non-null    int64  \n",
            " 15  No. of abortions        541 non-null    int64  \n",
            " 16    I   beta-HCG(mIU/mL)  541 non-null    float64\n",
            " 17  II    beta-HCG(mIU/mL)  541 non-null    object \n",
            " 18  FSH(mIU/mL)             541 non-null    float64\n",
            " 19  LH(mIU/mL)              541 non-null    float64\n",
            " 20  FSH/LH                  541 non-null    float64\n",
            " 21  Hip(inch)               541 non-null    int64  \n",
            " 22  Waist(inch)             541 non-null    int64  \n",
            " 23  Waist:Hip Ratio         541 non-null    float64\n",
            " 24  TSH (mIU/L)             541 non-null    float64\n",
            " 25  AMH(ng/mL)              541 non-null    object \n",
            " 26  PRL(ng/mL)              541 non-null    float64\n",
            " 27  Vit D3 (ng/mL)          541 non-null    float64\n",
            " 28  PRG(ng/mL)              541 non-null    float64\n",
            " 29  RBS(mg/dl)              541 non-null    float64\n",
            " 30  Weight gain(Y/N)        541 non-null    int64  \n",
            " 31  hair growth(Y/N)        541 non-null    int64  \n",
            " 32  Skin darkening (Y/N)    541 non-null    int64  \n",
            " 33  Hair loss(Y/N)          541 non-null    int64  \n",
            " 34  Pimples(Y/N)            541 non-null    int64  \n",
            " 35  Fast food (Y/N)         540 non-null    float64\n",
            " 36  Reg.Exercise(Y/N)       541 non-null    int64  \n",
            " 37  BP _Systolic (mmHg)     541 non-null    int64  \n",
            " 38  BP _Diastolic (mmHg)    541 non-null    int64  \n",
            " 39  Follicle No. (L)        541 non-null    int64  \n",
            " 40  Follicle No. (R)        541 non-null    int64  \n",
            " 41  Avg. F size (L) (mm)    541 non-null    float64\n",
            " 42  Avg. F size (R) (mm)    541 non-null    float64\n",
            " 43  Endometrium (mm)        541 non-null    float64\n",
            " 44  Unnamed: 44             2 non-null      object \n",
            "dtypes: float64(19), int64(23), object(3)\n",
            "memory usage: 190.3+ KB\n"
          ],
          "name": "stdout"
        }
      ]
    },
    {
      "cell_type": "markdown",
      "metadata": {
        "id": "fYnpxw8N7ZtF"
      },
      "source": [
        "**Two columns are of object(string) type, change it to numeric**"
      ]
    },
    {
      "cell_type": "code",
      "metadata": {
        "id": "w0SeyW3b6WX0"
      },
      "source": [
        "for i in ['AMH(ng/mL)', 'II    beta-HCG(mIU/mL)']:\n",
        "    pcos[i] = pd.to_numeric(pcos[i], errors='coerce')"
      ],
      "execution_count": 431,
      "outputs": []
    },
    {
      "cell_type": "markdown",
      "metadata": {
        "id": "sMeUbWBz8DrC"
      },
      "source": [
        "**Remove columns 'Sl. No', 'Patient File No.', 'Unnamed: 44' that do not have impact on the result.**\n"
      ]
    },
    {
      "cell_type": "code",
      "metadata": {
        "colab": {
          "base_uri": "https://localhost:8080/"
        },
        "id": "_yNhAEB98C6n",
        "outputId": "8ebc2517-4e1a-42ce-9713-809d5f677884"
      },
      "source": [
        "pcos = pcos.drop(['Sl. No', 'Patient File No.', 'Unnamed: 44'], axis =1)\n",
        "target = pcos.columns[:1].to_list()\n",
        "features = pcos.columns[1:].to_list()\n",
        "print(\"Total number of Features:\", len(features))"
      ],
      "execution_count": 432,
      "outputs": [
        {
          "output_type": "stream",
          "text": [
            "Total number of Features: 41\n"
          ],
          "name": "stdout"
        }
      ]
    },
    {
      "cell_type": "markdown",
      "metadata": {
        "id": "GR3yDn_38hFS"
      },
      "source": [
        "Check for any missing Values or NaN values"
      ]
    },
    {
      "cell_type": "code",
      "metadata": {
        "colab": {
          "base_uri": "https://localhost:8080/"
        },
        "id": "UsVMRjXt6yle",
        "outputId": "027f1071-7ac3-438b-83c8-9aeaa876debc"
      },
      "source": [
        "pcos.isnull().sum()"
      ],
      "execution_count": 433,
      "outputs": [
        {
          "output_type": "execute_result",
          "data": {
            "text/plain": [
              "PCOS (Y/N)                0\n",
              " Age (yrs)                0\n",
              "Weight (Kg)               0\n",
              "Height(Cm)                0\n",
              "BMI                       0\n",
              "Blood Group               0\n",
              "Pulse rate(bpm)           0\n",
              "RR (breaths/min)          0\n",
              "Hb(g/dl)                  0\n",
              "Cycle(R/I)                0\n",
              "Cycle length(days)        0\n",
              "Marraige Status (Yrs)     1\n",
              "Pregnant(Y/N)             0\n",
              "No. of abortions          0\n",
              "  I   beta-HCG(mIU/mL)    0\n",
              "II    beta-HCG(mIU/mL)    1\n",
              "FSH(mIU/mL)               0\n",
              "LH(mIU/mL)                0\n",
              "FSH/LH                    0\n",
              "Hip(inch)                 0\n",
              "Waist(inch)               0\n",
              "Waist:Hip Ratio           0\n",
              "TSH (mIU/L)               0\n",
              "AMH(ng/mL)                1\n",
              "PRL(ng/mL)                0\n",
              "Vit D3 (ng/mL)            0\n",
              "PRG(ng/mL)                0\n",
              "RBS(mg/dl)                0\n",
              "Weight gain(Y/N)          0\n",
              "hair growth(Y/N)          0\n",
              "Skin darkening (Y/N)      0\n",
              "Hair loss(Y/N)            0\n",
              "Pimples(Y/N)              0\n",
              "Fast food (Y/N)           1\n",
              "Reg.Exercise(Y/N)         0\n",
              "BP _Systolic (mmHg)       0\n",
              "BP _Diastolic (mmHg)      0\n",
              "Follicle No. (L)          0\n",
              "Follicle No. (R)          0\n",
              "Avg. F size (L) (mm)      0\n",
              "Avg. F size (R) (mm)      0\n",
              "Endometrium (mm)          0\n",
              "dtype: int64"
            ]
          },
          "metadata": {
            "tags": []
          },
          "execution_count": 433
        }
      ]
    },
    {
      "cell_type": "markdown",
      "metadata": {
        "id": "wTHBOqe480uM"
      },
      "source": [
        "Since the number of missing values is very low compared to the total record we can directly remove them."
      ]
    },
    {
      "cell_type": "code",
      "metadata": {
        "id": "ESSBXkbN8n0l",
        "colab": {
          "base_uri": "https://localhost:8080/"
        },
        "outputId": "48c53b4f-a6e9-418f-dfa8-cfc1133990e7"
      },
      "source": [
        "pcos = pcos.dropna()\n",
        "print(\"Total number of Features:\", len(features))"
      ],
      "execution_count": 434,
      "outputs": [
        {
          "output_type": "stream",
          "text": [
            "Total number of Features: 41\n"
          ],
          "name": "stdout"
        }
      ]
    },
    {
      "cell_type": "markdown",
      "metadata": {
        "id": "A4S5bd_k0BtJ"
      },
      "source": [
        "**Chi Square Test**"
      ]
    },
    {
      "cell_type": "markdown",
      "metadata": {
        "id": "b-d7ijha-2DG"
      },
      "source": [
        "Out of the 41 features, all the features might not influence the prediction. If we use all of them there could be a chance of overfitting. Thus we find a need for feature selection to identify top 30 parameters that influence our predition result. Hence we will use the Chi Square method to determine important features."
      ]
    },
    {
      "cell_type": "code",
      "metadata": {
        "colab": {
          "base_uri": "https://localhost:8080/",
          "height": 979
        },
        "id": "AUj_AItd9tR4",
        "outputId": "972e3292-57ef-48af-fb33-ddd99fbb5bc0"
      },
      "source": [
        "from sklearn.feature_selection import SelectKBest\n",
        "from sklearn.feature_selection import chi2\n",
        "\n",
        "num = 30\n",
        "\n",
        "bestfeatures = SelectKBest(score_func=chi2, k=num)\n",
        "fit = bestfeatures.fit(pcos[features], pcos[target])\n",
        "dfscores = pd.DataFrame(fit.scores_)\n",
        "dfcolumns = pd.DataFrame(pcos.columns)\n",
        "\n",
        "featureScores = pd.concat([dfcolumns, dfscores], axis=1)\n",
        "featureScores.columns = ['Feature','Score']\n",
        "featureScores = featureScores.sort_values(by='Score', ascending = False)\n",
        "featureScores = featureScores[featureScores.Feature != target[0]]\n",
        "featureScores = featureScores.reset_index(drop = True)\n",
        "featureScores[:num]"
      ],
      "execution_count": 435,
      "outputs": [
        {
          "output_type": "execute_result",
          "data": {
            "text/html": [
              "<div>\n",
              "<style scoped>\n",
              "    .dataframe tbody tr th:only-of-type {\n",
              "        vertical-align: middle;\n",
              "    }\n",
              "\n",
              "    .dataframe tbody tr th {\n",
              "        vertical-align: top;\n",
              "    }\n",
              "\n",
              "    .dataframe thead th {\n",
              "        text-align: right;\n",
              "    }\n",
              "</style>\n",
              "<table border=\"1\" class=\"dataframe\">\n",
              "  <thead>\n",
              "    <tr style=\"text-align: right;\">\n",
              "      <th></th>\n",
              "      <th>Feature</th>\n",
              "      <th>Score</th>\n",
              "    </tr>\n",
              "  </thead>\n",
              "  <tbody>\n",
              "    <tr>\n",
              "      <th>0</th>\n",
              "      <td>PRL(ng/mL)</td>\n",
              "      <td>9600.594045</td>\n",
              "    </tr>\n",
              "    <tr>\n",
              "      <th>1</th>\n",
              "      <td>No. of abortions</td>\n",
              "      <td>6899.358709</td>\n",
              "    </tr>\n",
              "    <tr>\n",
              "      <th>2</th>\n",
              "      <td>FSH(mIU/mL)</td>\n",
              "      <td>2572.753526</td>\n",
              "    </tr>\n",
              "    <tr>\n",
              "      <th>3</th>\n",
              "      <td>II    beta-HCG(mIU/mL)</td>\n",
              "      <td>1592.273459</td>\n",
              "    </tr>\n",
              "    <tr>\n",
              "      <th>4</th>\n",
              "      <td>I   beta-HCG(mIU/mL)</td>\n",
              "      <td>1012.628577</td>\n",
              "    </tr>\n",
              "    <tr>\n",
              "      <th>5</th>\n",
              "      <td>Follicle No. (L)</td>\n",
              "      <td>673.143812</td>\n",
              "    </tr>\n",
              "    <tr>\n",
              "      <th>6</th>\n",
              "      <td>BP _Diastolic (mmHg)</td>\n",
              "      <td>564.595226</td>\n",
              "    </tr>\n",
              "    <tr>\n",
              "      <th>7</th>\n",
              "      <td>TSH (mIU/L)</td>\n",
              "      <td>221.815736</td>\n",
              "    </tr>\n",
              "    <tr>\n",
              "      <th>8</th>\n",
              "      <td>LH(mIU/mL)</td>\n",
              "      <td>96.235867</td>\n",
              "    </tr>\n",
              "    <tr>\n",
              "      <th>9</th>\n",
              "      <td>hair growth(Y/N)</td>\n",
              "      <td>85.664994</td>\n",
              "    </tr>\n",
              "    <tr>\n",
              "      <th>10</th>\n",
              "      <td>Weight gain(Y/N)</td>\n",
              "      <td>84.038102</td>\n",
              "    </tr>\n",
              "    <tr>\n",
              "      <th>11</th>\n",
              "      <td>RBS(mg/dl)</td>\n",
              "      <td>65.013528</td>\n",
              "    </tr>\n",
              "    <tr>\n",
              "      <th>12</th>\n",
              "      <td>Age (yrs)</td>\n",
              "      <td>50.858288</td>\n",
              "    </tr>\n",
              "    <tr>\n",
              "      <th>13</th>\n",
              "      <td>Pimples(Y/N)</td>\n",
              "      <td>37.437317</td>\n",
              "    </tr>\n",
              "    <tr>\n",
              "      <th>14</th>\n",
              "      <td>Hb(g/dl)</td>\n",
              "      <td>27.793800</td>\n",
              "    </tr>\n",
              "    <tr>\n",
              "      <th>15</th>\n",
              "      <td>Vit D3 (ng/mL)</td>\n",
              "      <td>25.008276</td>\n",
              "    </tr>\n",
              "    <tr>\n",
              "      <th>16</th>\n",
              "      <td>Hair loss(Y/N)</td>\n",
              "      <td>23.562113</td>\n",
              "    </tr>\n",
              "    <tr>\n",
              "      <th>17</th>\n",
              "      <td>Cycle length(days)</td>\n",
              "      <td>19.710939</td>\n",
              "    </tr>\n",
              "    <tr>\n",
              "      <th>18</th>\n",
              "      <td>Height(Cm)</td>\n",
              "      <td>15.105580</td>\n",
              "    </tr>\n",
              "    <tr>\n",
              "      <th>19</th>\n",
              "      <td>Skin darkening (Y/N)</td>\n",
              "      <td>8.910647</td>\n",
              "    </tr>\n",
              "    <tr>\n",
              "      <th>20</th>\n",
              "      <td>Cycle(R/I)</td>\n",
              "      <td>8.230296</td>\n",
              "    </tr>\n",
              "    <tr>\n",
              "      <th>21</th>\n",
              "      <td>Follicle No. (R)</td>\n",
              "      <td>7.460844</td>\n",
              "    </tr>\n",
              "    <tr>\n",
              "      <th>22</th>\n",
              "      <td>FSH/LH</td>\n",
              "      <td>5.426396</td>\n",
              "    </tr>\n",
              "    <tr>\n",
              "      <th>23</th>\n",
              "      <td>Hip(inch)</td>\n",
              "      <td>5.219221</td>\n",
              "    </tr>\n",
              "    <tr>\n",
              "      <th>24</th>\n",
              "      <td>PRG(ng/mL)</td>\n",
              "      <td>4.779813</td>\n",
              "    </tr>\n",
              "    <tr>\n",
              "      <th>25</th>\n",
              "      <td>Avg. F size (L) (mm)</td>\n",
              "      <td>3.352904</td>\n",
              "    </tr>\n",
              "    <tr>\n",
              "      <th>26</th>\n",
              "      <td>Avg. F size (R) (mm)</td>\n",
              "      <td>3.144839</td>\n",
              "    </tr>\n",
              "    <tr>\n",
              "      <th>27</th>\n",
              "      <td>Pregnant(Y/N)</td>\n",
              "      <td>2.824165</td>\n",
              "    </tr>\n",
              "    <tr>\n",
              "      <th>28</th>\n",
              "      <td>Fast food (Y/N)</td>\n",
              "      <td>1.856357</td>\n",
              "    </tr>\n",
              "    <tr>\n",
              "      <th>29</th>\n",
              "      <td>Blood Group</td>\n",
              "      <td>1.235629</td>\n",
              "    </tr>\n",
              "  </tbody>\n",
              "</table>\n",
              "</div>"
            ],
            "text/plain": [
              "                   Feature        Score\n",
              "0               PRL(ng/mL)  9600.594045\n",
              "1         No. of abortions  6899.358709\n",
              "2              FSH(mIU/mL)  2572.753526\n",
              "3   II    beta-HCG(mIU/mL)  1592.273459\n",
              "4     I   beta-HCG(mIU/mL)  1012.628577\n",
              "5         Follicle No. (L)   673.143812\n",
              "6     BP _Diastolic (mmHg)   564.595226\n",
              "7              TSH (mIU/L)   221.815736\n",
              "8               LH(mIU/mL)    96.235867\n",
              "9         hair growth(Y/N)    85.664994\n",
              "10        Weight gain(Y/N)    84.038102\n",
              "11              RBS(mg/dl)    65.013528\n",
              "12               Age (yrs)    50.858288\n",
              "13            Pimples(Y/N)    37.437317\n",
              "14                Hb(g/dl)    27.793800\n",
              "15          Vit D3 (ng/mL)    25.008276\n",
              "16          Hair loss(Y/N)    23.562113\n",
              "17      Cycle length(days)    19.710939\n",
              "18             Height(Cm)     15.105580\n",
              "19    Skin darkening (Y/N)     8.910647\n",
              "20              Cycle(R/I)     8.230296\n",
              "21        Follicle No. (R)     7.460844\n",
              "22                  FSH/LH     5.426396\n",
              "23               Hip(inch)     5.219221\n",
              "24              PRG(ng/mL)     4.779813\n",
              "25    Avg. F size (L) (mm)     3.352904\n",
              "26    Avg. F size (R) (mm)     3.144839\n",
              "27           Pregnant(Y/N)     2.824165\n",
              "28         Fast food (Y/N)     1.856357\n",
              "29             Blood Group     1.235629"
            ]
          },
          "metadata": {
            "tags": []
          },
          "execution_count": 435
        }
      ]
    },
    {
      "cell_type": "code",
      "metadata": {
        "id": "E8lNAKNE_e3C",
        "colab": {
          "base_uri": "https://localhost:8080/"
        },
        "outputId": "1e774fa7-a666-48ea-a62c-77b76bb8f52e"
      },
      "source": [
        "new_features = featureScores['Feature'].to_list()\n",
        "new_features = new_features[:num]\n",
        "new_features"
      ],
      "execution_count": 436,
      "outputs": [
        {
          "output_type": "execute_result",
          "data": {
            "text/plain": [
              "['PRL(ng/mL)',\n",
              " 'No. of abortions',\n",
              " 'FSH(mIU/mL)',\n",
              " 'II    beta-HCG(mIU/mL)',\n",
              " '  I   beta-HCG(mIU/mL)',\n",
              " 'Follicle No. (L)',\n",
              " 'BP _Diastolic (mmHg)',\n",
              " 'TSH (mIU/L)',\n",
              " 'LH(mIU/mL)',\n",
              " 'hair growth(Y/N)',\n",
              " 'Weight gain(Y/N)',\n",
              " 'RBS(mg/dl)',\n",
              " ' Age (yrs)',\n",
              " 'Pimples(Y/N)',\n",
              " 'Hb(g/dl)',\n",
              " 'Vit D3 (ng/mL)',\n",
              " 'Hair loss(Y/N)',\n",
              " 'Cycle length(days)',\n",
              " 'Height(Cm) ',\n",
              " 'Skin darkening (Y/N)',\n",
              " 'Cycle(R/I)',\n",
              " 'Follicle No. (R)',\n",
              " 'FSH/LH',\n",
              " 'Hip(inch)',\n",
              " 'PRG(ng/mL)',\n",
              " 'Avg. F size (L) (mm)',\n",
              " 'Avg. F size (R) (mm)',\n",
              " 'Pregnant(Y/N)',\n",
              " 'Fast food (Y/N)',\n",
              " 'Blood Group']"
            ]
          },
          "metadata": {
            "tags": []
          },
          "execution_count": 436
        }
      ]
    },
    {
      "cell_type": "markdown",
      "metadata": {
        "id": "LPUeuLXAFl9x"
      },
      "source": [
        "**Data Transformation - Chi Square**"
      ]
    },
    {
      "cell_type": "code",
      "metadata": {
        "id": "T75c3ER9_jh1"
      },
      "source": [
        "from sklearn.preprocessing import StandardScaler\n",
        "from sklearn.pipeline import Pipeline\n",
        "from sklearn.compose import ColumnTransformer\n",
        "\n",
        "numerical_transformer = Pipeline(steps=[('scaler', StandardScaler())])\n",
        "\n",
        "preprocessor = ColumnTransformer(transformers=[('num', numerical_transformer, new_features)])"
      ],
      "execution_count": 437,
      "outputs": []
    },
    {
      "cell_type": "code",
      "metadata": {
        "id": "9uNXKVM7ELTS"
      },
      "source": [
        "from sklearn import svm\n",
        "from sklearn.ensemble import RandomForestClassifier\n",
        "\n",
        "from sklearn import metrics\n",
        "from sklearn.model_selection import KFold, cross_val_score, train_test_split"
      ],
      "execution_count": 438,
      "outputs": []
    },
    {
      "cell_type": "markdown",
      "metadata": {
        "id": "5jV1nwezFyqF"
      },
      "source": [
        "**Model Training - Chi Square**"
      ]
    },
    {
      "cell_type": "code",
      "metadata": {
        "id": "KksowHYeEVfm"
      },
      "source": [
        "train, test = train_test_split(pcos, test_size = 0.2)\n",
        "\n",
        "observations = pd.DataFrame()\n",
        "classifier = 'RandomForestClassifier'\n",
        "model =  RandomForestClassifier(n_estimators=200, random_state=0)\n",
        "\n",
        "cv = KFold(n_splits=5, random_state=0, shuffle=True)\n",
        "pipe = Pipeline(steps=[('preprocessor', preprocessor),('model', model)])\n",
        "observations[classifier] = (cross_val_score(pipe, train[new_features], np.ravel(train[target]), scoring='accuracy', cv=cv))"
      ],
      "execution_count": 439,
      "outputs": []
    },
    {
      "cell_type": "markdown",
      "metadata": {
        "id": "v8Lg0PxxE6Pu"
      },
      "source": [
        "**Evaluation - Chi Square**"
      ]
    },
    {
      "cell_type": "code",
      "metadata": {
        "colab": {
          "base_uri": "https://localhost:8080/",
          "height": 80
        },
        "id": "jCDAdC5bE4WO",
        "outputId": "e4efa314-8154-4c0d-8bca-df9a53ae30c2"
      },
      "source": [
        "mean = pd.DataFrame(observations.mean(), index= [classifier])\n",
        "observations = pd.concat([observations,mean.T])\n",
        "observations.index=['Fold 1','Fold 2','Fold 3','Fold 4','Fold 5','Mean Accuracy']\n",
        "observations.T.sort_values(by=['Mean Accuracy'], ascending = False)"
      ],
      "execution_count": 440,
      "outputs": [
        {
          "output_type": "execute_result",
          "data": {
            "text/html": [
              "<div>\n",
              "<style scoped>\n",
              "    .dataframe tbody tr th:only-of-type {\n",
              "        vertical-align: middle;\n",
              "    }\n",
              "\n",
              "    .dataframe tbody tr th {\n",
              "        vertical-align: top;\n",
              "    }\n",
              "\n",
              "    .dataframe thead th {\n",
              "        text-align: right;\n",
              "    }\n",
              "</style>\n",
              "<table border=\"1\" class=\"dataframe\">\n",
              "  <thead>\n",
              "    <tr style=\"text-align: right;\">\n",
              "      <th></th>\n",
              "      <th>Fold 1</th>\n",
              "      <th>Fold 2</th>\n",
              "      <th>Fold 3</th>\n",
              "      <th>Fold 4</th>\n",
              "      <th>Fold 5</th>\n",
              "      <th>Mean Accuracy</th>\n",
              "    </tr>\n",
              "  </thead>\n",
              "  <tbody>\n",
              "    <tr>\n",
              "      <th>RandomForestClassifier</th>\n",
              "      <td>0.906977</td>\n",
              "      <td>0.906977</td>\n",
              "      <td>0.895349</td>\n",
              "      <td>0.918605</td>\n",
              "      <td>0.894118</td>\n",
              "      <td>0.904405</td>\n",
              "    </tr>\n",
              "  </tbody>\n",
              "</table>\n",
              "</div>"
            ],
            "text/plain": [
              "                          Fold 1    Fold 2  ...    Fold 5  Mean Accuracy\n",
              "RandomForestClassifier  0.906977  0.906977  ...  0.894118       0.904405\n",
              "\n",
              "[1 rows x 6 columns]"
            ]
          },
          "metadata": {
            "tags": []
          },
          "execution_count": 440
        }
      ]
    },
    {
      "cell_type": "code",
      "metadata": {
        "id": "7waH9FQrFCxq"
      },
      "source": [
        "from sklearn.metrics import confusion_matrix\n",
        "\n",
        "ran_model = RandomForestClassifier(n_estimators=200, random_state=0)\n",
        "ran_pipe = Pipeline(steps=[('preprocessor', preprocessor), ('model', ran_model)])\n",
        "ran_pipe.fit(train[new_features], np.ravel(train[target]))\n",
        "pred = ran_pipe.predict(test[new_features])"
      ],
      "execution_count": 441,
      "outputs": []
    },
    {
      "cell_type": "code",
      "metadata": {
        "colab": {
          "base_uri": "https://localhost:8080/",
          "height": 385
        },
        "id": "VH8QSXa0FOhd",
        "outputId": "ce340dc9-1ae9-46f3-e394-41c4a7953e3f"
      },
      "source": [
        "plt.figure(dpi = 100)\n",
        "plt.title(\"Confusion Matrix\")\n",
        "cf_matrix = confusion_matrix(np.ravel(test[target]), pred)\n",
        "cf_hm = sns.heatmap(cf_matrix, annot=True, cmap = 'rocket_r')"
      ],
      "execution_count": 442,
      "outputs": [
        {
          "output_type": "display_data",
          "data": {
            "image/png": "[encoded data removed]",
            "text/plain": [
              "<Figure size 600x400 with 2 Axes>"
            ]
          },
          "metadata": {
            "tags": [],
            "needs_background": "light"
          }
        }
      ]
    },
    {
      "cell_type": "code",
      "metadata": {
        "colab": {
          "base_uri": "https://localhost:8080/",
          "height": 404
        },
        "id": "91omLns-FXfq",
        "outputId": "aed44b39-9892-4fa2-d91d-7f35615d186a"
      },
      "source": [
        "import sklearn.metrics as metrics\n",
        "\n",
        "fpr, tpr, threshold = metrics.roc_curve(test[target], pred)\n",
        "roc_auc = metrics.auc(fpr, tpr)\n",
        "\n",
        "plt.figure(dpi = 100)\n",
        "plt.title('ROC curve for Random Forest Classifier')\n",
        "plt.plot(fpr, tpr, 'b', label = 'AUC = %0.2f' % roc_auc)\n",
        "plt.legend(loc = 'lower right')\n",
        "plt.plot([0, 1], [0, 1],'r--')\n",
        "plt.xlim([0, 1])\n",
        "plt.ylim([0, 1])\n",
        "plt.ylabel('True Positive Rate(sensitivity)')\n",
        "plt.xlabel('False Positive Rate(specificity)')\n",
        "plt.show()"
      ],
      "execution_count": 443,
      "outputs": [
        {
          "output_type": "display_data",
          "data": {
            "image/png": "[encoded data removed]",
            "text/plain": [
              "<Figure size 600x400 with 1 Axes>"
            ]
          },
          "metadata": {
            "tags": [],
            "needs_background": "light"
          }
        }
      ]
    },
    {
      "cell_type": "markdown",
      "metadata": {
        "id": "EPopBu4ly7WR"
      },
      "source": [
        "**Information Gain**"
      ]
    },
    {
      "cell_type": "code",
      "metadata": {
        "id": "RqZM8kRqFegw",
        "colab": {
          "base_uri": "https://localhost:8080/",
          "height": 917
        },
        "outputId": "6d4e285e-ff7c-4b76-f626-4135ce7544d9"
      },
      "source": [
        "from sklearn.feature_selection import mutual_info_classif\n",
        "\n",
        "\n",
        "f = plt.figure()\n",
        "f.set_figheight(15)\n",
        "importances = mutual_info_classif(pcos[features], pcos[target])\n",
        "f_imp = pd.Series(importances, pcos.columns[1:])\n",
        "f_imp.plot(kind='barh', color='teal')\n",
        "plt.show()"
      ],
      "execution_count": 444,
      "outputs": [
        {
          "output_type": "stream",
          "text": [
            "/usr/local/lib/python3.7/dist-packages/sklearn/utils/validation.py:760: DataConversionWarning: A column-vector y was passed when a 1d array was expected. Please change the shape of y to (n_samples, ), for example using ravel().\n",
            "  y = column_or_1d(y, warn=True)\n"
          ],
          "name": "stderr"
        },
        {
          "output_type": "display_data",
          "data": {
            "image/png": "[encoded data removed]",
            "text/plain": [
              "<Figure size 432x1080 with 1 Axes>"
            ]
          },
          "metadata": {
            "tags": [],
            "needs_background": "light"
          }
        }
      ]
    },
    {
      "cell_type": "code",
      "metadata": {
        "id": "1p3YubvXt_mF",
        "colab": {
          "base_uri": "https://localhost:8080/"
        },
        "outputId": "54f41ab1-5830-44fb-f5a0-76cd361be406"
      },
      "source": [
        "info_gain = [(i*100, j) for i,j in zip(importances,features) ]\n",
        "info_gain.sort(reverse=True)\n",
        "\n",
        "ig_best = info_gain[:30]\n",
        "ig_features = [i[1] for i in ig_best]\n",
        "\n",
        "[(i[1],i[0]*100) for i in info_gain[:30]]"
      ],
      "execution_count": 445,
      "outputs": [
        {
          "output_type": "execute_result",
          "data": {
            "text/plain": [
              "[('Follicle No. (L)', 2388.2734963873454),\n",
              " ('Follicle No. (R)', 2360.2083378574835),\n",
              " ('Weight gain(Y/N)', 1123.4623992530878),\n",
              " ('hair growth(Y/N)', 1039.2781251806116),\n",
              " ('Skin darkening (Y/N)', 985.7047468413139),\n",
              " ('Cycle(R/I)', 851.6989890839956),\n",
              " ('Fast food (Y/N)', 740.2837464150957),\n",
              " ('Cycle length(days)', 727.1429503175186),\n",
              " ('AMH(ng/mL)', 724.1161860613454),\n",
              " ('PRL(ng/mL)', 599.1218546511545),\n",
              " ('FSH/LH', 590.2322266980775),\n",
              " ('TSH (mIU/L)', 382.5981143528368),\n",
              " ('Endometrium (mm)', 363.2518611731039),\n",
              " ('Pimples(Y/N)', 339.6260232723391),\n",
              " ('Waist:Hip Ratio', 296.17511543999166),\n",
              " ('FSH(mIU/mL)', 243.20748252156577),\n",
              " ('Hb(g/dl)', 223.47097220715372),\n",
              " ('Vit D3 (ng/mL)', 194.2442031029712),\n",
              " ('Pregnant(Y/N)', 183.57554173901613),\n",
              " ('LH(mIU/mL)', 182.0858958844207),\n",
              " ('Avg. F size (R) (mm)', 160.47364968812872),\n",
              " ('Waist(inch)', 156.1787519994029),\n",
              " ('Weight (Kg)', 147.5294943082073),\n",
              " ('Hip(inch)', 140.10516792605011),\n",
              " ('PRG(ng/mL)', 132.45105331018746),\n",
              " ('Marraige Status (Yrs)', 98.8758136363943),\n",
              " ('RR (breaths/min)', 98.4217190038339),\n",
              " ('RBS(mg/dl)', 92.04515975601568),\n",
              " ('  I   beta-HCG(mIU/mL)', 44.14469819519873),\n",
              " ('No. of abortions', 16.66898998457844)]"
            ]
          },
          "metadata": {
            "tags": []
          },
          "execution_count": 445
        }
      ]
    },
    {
      "cell_type": "markdown",
      "metadata": {
        "id": "Z84FyTy55zKy"
      },
      "source": [
        "**Data Transformation - IG**"
      ]
    },
    {
      "cell_type": "code",
      "metadata": {
        "id": "Kdw7d8kL1Ru9"
      },
      "source": [
        "numerical_transformer = Pipeline(steps=[('scaler', StandardScaler())])\n",
        "\n",
        "preprocessor = ColumnTransformer(transformers=[('num', numerical_transformer, ig_features)])"
      ],
      "execution_count": 446,
      "outputs": []
    },
    {
      "cell_type": "markdown",
      "metadata": {
        "id": "HyKabOFw56tR"
      },
      "source": [
        "**Model Training - IG**"
      ]
    },
    {
      "cell_type": "code",
      "metadata": {
        "id": "pJWxwML72xdl"
      },
      "source": [
        "train, test = train_test_split(pcos, test_size = 0.2)\n",
        "\n",
        "observations = pd.DataFrame()\n",
        "classifier = 'RandomForestClassifier'\n",
        "model =  RandomForestClassifier(n_estimators=200, random_state=0)\n",
        "\n",
        "cv = KFold(n_splits=5, random_state=0, shuffle=True)\n",
        "pipe = Pipeline(steps=[('preprocessor', preprocessor),('model', model)])\n",
        "observations[classifier] = (cross_val_score(pipe, train[ig_features], np.ravel(train[target]), scoring='accuracy', cv=cv))"
      ],
      "execution_count": 447,
      "outputs": []
    },
    {
      "cell_type": "markdown",
      "metadata": {
        "id": "tDXvAV6k5-qj"
      },
      "source": [
        "**Evaluation - IG**"
      ]
    },
    {
      "cell_type": "code",
      "metadata": {
        "colab": {
          "base_uri": "https://localhost:8080/",
          "height": 80
        },
        "id": "lPouxMd62tUk",
        "outputId": "bd2dd85e-2d2b-477e-f22a-7fa460e889c8"
      },
      "source": [
        "mean = pd.DataFrame(observations.mean(), index= [classifier])\n",
        "observations = pd.concat([observations,mean.T])\n",
        "observations.index=['Fold 1','Fold 2','Fold 3','Fold 4','Fold 5','Mean Accuracy']\n",
        "observations.T.sort_values(by=['Mean Accuracy'], ascending = False)"
      ],
      "execution_count": 448,
      "outputs": [
        {
          "output_type": "execute_result",
          "data": {
            "text/html": [
              "<div>\n",
              "<style scoped>\n",
              "    .dataframe tbody tr th:only-of-type {\n",
              "        vertical-align: middle;\n",
              "    }\n",
              "\n",
              "    .dataframe tbody tr th {\n",
              "        vertical-align: top;\n",
              "    }\n",
              "\n",
              "    .dataframe thead th {\n",
              "        text-align: right;\n",
              "    }\n",
              "</style>\n",
              "<table border=\"1\" class=\"dataframe\">\n",
              "  <thead>\n",
              "    <tr style=\"text-align: right;\">\n",
              "      <th></th>\n",
              "      <th>Fold 1</th>\n",
              "      <th>Fold 2</th>\n",
              "      <th>Fold 3</th>\n",
              "      <th>Fold 4</th>\n",
              "      <th>Fold 5</th>\n",
              "      <th>Mean Accuracy</th>\n",
              "    </tr>\n",
              "  </thead>\n",
              "  <tbody>\n",
              "    <tr>\n",
              "      <th>RandomForestClassifier</th>\n",
              "      <td>0.906977</td>\n",
              "      <td>0.918605</td>\n",
              "      <td>0.918605</td>\n",
              "      <td>0.860465</td>\n",
              "      <td>0.894118</td>\n",
              "      <td>0.899754</td>\n",
              "    </tr>\n",
              "  </tbody>\n",
              "</table>\n",
              "</div>"
            ],
            "text/plain": [
              "                          Fold 1    Fold 2  ...    Fold 5  Mean Accuracy\n",
              "RandomForestClassifier  0.906977  0.918605  ...  0.894118       0.899754\n",
              "\n",
              "[1 rows x 6 columns]"
            ]
          },
          "metadata": {
            "tags": []
          },
          "execution_count": 448
        }
      ]
    },
    {
      "cell_type": "code",
      "metadata": {
        "id": "cGW5cvkK22Ol"
      },
      "source": [
        "ran_model = RandomForestClassifier(n_estimators=200, random_state=0)\n",
        "ran_pipe = Pipeline(steps=[('preprocessor', preprocessor), ('model', ran_model)])\n",
        "ran_pipe.fit(train[ig_features], np.ravel(train[target]))\n",
        "pred = ran_pipe.predict(test[ig_features])"
      ],
      "execution_count": 449,
      "outputs": []
    },
    {
      "cell_type": "code",
      "metadata": {
        "colab": {
          "base_uri": "https://localhost:8080/",
          "height": 385
        },
        "id": "GwhxI6UB27b9",
        "outputId": "a314e5ed-3a4e-49a0-e470-274ae43c6b8b"
      },
      "source": [
        "plt.figure(dpi = 100)\n",
        "plt.title(\"Confusion Matrix\")\n",
        "cf_matrix = confusion_matrix(np.ravel(test[target]), pred)\n",
        "cf_hm = sns.heatmap(cf_matrix, annot=True, cmap = 'rocket_r')"
      ],
      "execution_count": 450,
      "outputs": [
        {
          "output_type": "display_data",
          "data": {
            "image/png": "[encoded data removed]",
            "text/plain": [
              "<Figure size 600x400 with 2 Axes>"
            ]
          },
          "metadata": {
            "tags": [],
            "needs_background": "light"
          }
        }
      ]
    },
    {
      "cell_type": "code",
      "metadata": {
        "colab": {
          "base_uri": "https://localhost:8080/",
          "height": 404
        },
        "id": "FB1S9VAO2--8",
        "outputId": "a35ed1ff-9128-4445-885e-e7223108ee3e"
      },
      "source": [
        "import sklearn.metrics as metrics\n",
        "\n",
        "fpr, tpr, threshold = metrics.roc_curve(test[target], pred)\n",
        "roc_auc = metrics.auc(fpr, tpr)\n",
        "\n",
        "plt.figure(dpi = 100)\n",
        "plt.title('ROC curve for Random Forest Classifier')\n",
        "plt.plot(fpr, tpr, 'b', label = 'AUC = %0.2f' % roc_auc)\n",
        "plt.legend(loc = 'lower right')\n",
        "plt.plot([0, 1], [0, 1],'r--')\n",
        "plt.xlim([0, 1])\n",
        "plt.ylim([0, 1])\n",
        "plt.ylabel('True Positive Rate(sensitivity)')\n",
        "plt.xlabel('False Positive Rate(specificity)')\n",
        "plt.show()"
      ],
      "execution_count": 451,
      "outputs": [
        {
          "output_type": "display_data",
          "data": {
            "image/png": "[encoded data removed]",
            "text/plain": [
              "<Figure size 600x400 with 1 Axes>"
            ]
          },
          "metadata": {
            "tags": [],
            "needs_background": "light"
          }
        }
      ]
    }
  ]
}